{
 "cells": [
  {
   "cell_type": "code",
   "execution_count": 1,
   "id": "initial_id",
   "metadata": {
    "ExecuteTime": {
     "end_time": "2025-01-08T17:48:21.816302Z",
     "start_time": "2025-01-08T17:48:21.331275Z"
    },
    "collapsed": true
   },
   "outputs": [
    {
     "name": "stderr",
     "output_type": "stream",
     "text": [
      "[nltk_data] Downloading package punkt to\n",
      "[nltk_data]     C:\\Users\\mateo\\AppData\\Roaming\\nltk_data...\n",
      "[nltk_data]   Package punkt is already up-to-date!\n",
      "[nltk_data] Downloading package stopwords to\n",
      "[nltk_data]     C:\\Users\\mateo\\AppData\\Roaming\\nltk_data...\n",
      "[nltk_data]   Package stopwords is already up-to-date!\n"
     ]
    },
    {
     "data": {
      "text/plain": [
       "True"
      ]
     },
     "execution_count": 1,
     "metadata": {},
     "output_type": "execute_result"
    }
   ],
   "source": [
    "# Import necessary libraries\n",
    "import pandas as pd\n",
    "import matplotlib.pyplot as plt\n",
    "import os\n",
    "# Download necessary NLTK data\n",
    "import nltk\n",
    "from jupyter_core.version import pattern\n",
    "\n",
    "nltk.download('punkt')\n",
    "nltk.download('stopwords')\n"
   ]
  },
  {
   "cell_type": "markdown",
   "id": "28bd14c73168ef0f",
   "metadata": {},
   "source": [
    "# Load and display the data\n"
   ]
  },
  {
   "cell_type": "code",
   "execution_count": 2,
   "id": "25b14fb9c6192c9f",
   "metadata": {
    "ExecuteTime": {
     "end_time": "2025-01-08T17:48:21.848062Z",
     "start_time": "2025-01-08T17:48:21.823403Z"
    }
   },
   "outputs": [
    {
     "name": "stdout",
     "output_type": "stream",
     "text": [
      "Dataset loaded successfully!\n"
     ]
    },
    {
     "data": {
      "text/html": [
       "<div>\n",
       "<style scoped>\n",
       "    .dataframe tbody tr th:only-of-type {\n",
       "        vertical-align: middle;\n",
       "    }\n",
       "\n",
       "    .dataframe tbody tr th {\n",
       "        vertical-align: top;\n",
       "    }\n",
       "\n",
       "    .dataframe thead th {\n",
       "        text-align: right;\n",
       "    }\n",
       "</style>\n",
       "<table border=\"1\" class=\"dataframe\">\n",
       "  <thead>\n",
       "    <tr style=\"text-align: right;\">\n",
       "      <th></th>\n",
       "      <th>Sentence</th>\n",
       "      <th>Sentiment</th>\n",
       "    </tr>\n",
       "  </thead>\n",
       "  <tbody>\n",
       "    <tr>\n",
       "      <th>0</th>\n",
       "      <td>The GeoSolutions technology will leverage Bene...</td>\n",
       "      <td>positive</td>\n",
       "    </tr>\n",
       "    <tr>\n",
       "      <th>1</th>\n",
       "      <td>$ESI on lows, down $1.50 to $2.50 BK a real po...</td>\n",
       "      <td>negative</td>\n",
       "    </tr>\n",
       "    <tr>\n",
       "      <th>2</th>\n",
       "      <td>For the last quarter of 2010 , Componenta 's n...</td>\n",
       "      <td>positive</td>\n",
       "    </tr>\n",
       "    <tr>\n",
       "      <th>3</th>\n",
       "      <td>According to the Finnish-Russian Chamber of Co...</td>\n",
       "      <td>neutral</td>\n",
       "    </tr>\n",
       "    <tr>\n",
       "      <th>4</th>\n",
       "      <td>The Swedish buyout firm has sold its remaining...</td>\n",
       "      <td>neutral</td>\n",
       "    </tr>\n",
       "  </tbody>\n",
       "</table>\n",
       "</div>"
      ],
      "text/plain": [
       "                                            Sentence Sentiment\n",
       "0  The GeoSolutions technology will leverage Bene...  positive\n",
       "1  $ESI on lows, down $1.50 to $2.50 BK a real po...  negative\n",
       "2  For the last quarter of 2010 , Componenta 's n...  positive\n",
       "3  According to the Finnish-Russian Chamber of Co...   neutral\n",
       "4  The Swedish buyout firm has sold its remaining...   neutral"
      ]
     },
     "execution_count": 2,
     "metadata": {},
     "output_type": "execute_result"
    }
   ],
   "source": [
    "# Define the path to the manually downloaded dataset\n",
    "data_path = \"data/data.csv\"  # Update the file name if it's different\n",
    "\n",
    "# Check if the file exists before attempting to load\n",
    "if not os.path.exists(data_path):\n",
    "    raise FileNotFoundError(f\"Dataset file not found at {data_path}. Ensure the file is in the correct location.\")\n",
    "\n",
    "# Load the dataset\n",
    "df= pd.read_csv(data_path)\n",
    "print(\"Dataset loaded successfully!\")\n",
    "\n",
    "# Display the first few rows of the DataFrame\n",
    "df.head()\n"
   ]
  },
  {
   "cell_type": "markdown",
   "id": "7fdfa7f2",
   "metadata": {},
   "source": [
    "# Perform EDA "
   ]
  },
  {
   "cell_type": "markdown",
   "id": "e43caff3",
   "metadata": {},
   "source": [
    "# Display class disctribution"
   ]
  },
  {
   "cell_type": "code",
   "execution_count": 3,
   "id": "05715c6f",
   "metadata": {},
   "outputs": [
    {
     "name": "stdout",
     "output_type": "stream",
     "text": [
      "Class distribution:\n",
      "Sentiment\n",
      "neutral     3124\n",
      "positive    1852\n",
      "negative     860\n",
      "Name: count, dtype: int64\n",
      "\n",
      "Text length stats:\n",
      "count    5836.000000\n",
      "mean      116.964702\n",
      "std        56.318951\n",
      "min         9.000000\n",
      "25%        72.000000\n",
      "50%       107.000000\n",
      "75%       150.000000\n",
      "max       315.000000\n",
      "Name: text_length, dtype: float64\n"
     ]
    },
    {
     "data": {
      "image/png": "[encoded data removed]",
      "text/plain": [
       "<Figure size 640x480 with 1 Axes>"
      ]
     },
     "metadata": {},
     "output_type": "display_data"
    }
   ],
   "source": [
    "import matplotlib.pyplot as plt\n",
    "# Perform Exploratory Data Analysis (EDA)\n",
    "# drop rows with missing values\n",
    "df.dropna(inplace=True)\n",
    "# Check for duplicates and remove them\n",
    "df.drop_duplicates(inplace=True)\n",
    "def perform_eda(data):\n",
    "    # Check class distribution\n",
    "    print(\"Class distribution:\")\n",
    "    print(df['Sentiment'].value_counts())\n",
    "\n",
    "    # Text length analysis\n",
    "    df['text_length'] = df['Sentence'].apply(len)\n",
    "    print(\"\\nText length stats:\")\n",
    "    print(df['text_length'].describe())\n",
    "\n",
    "    # Visualize class distribution\n",
    "    df['Sentiment'].value_counts().plot(kind='bar', title=\"Class Distribution\")\n",
    "    plt.show()\n",
    "perform_eda(df)\n"
   ]
  },
  {
   "cell_type": "markdown",
   "id": "aa421136245c95be",
   "metadata": {},
   "source": [
    "# Preprocess the text data\n"
   ]
  },
  {
   "cell_type": "code",
   "execution_count": null,
   "id": "19737fa737d0b718",
   "metadata": {
    "ExecuteTime": {
     "end_time": "2025-01-08T17:48:22.699228Z",
     "start_time": "2025-01-08T17:48:22.075968Z"
    }
   },
   "outputs": [
    {
     "name": "stderr",
     "output_type": "stream",
     "text": [
      "[nltk_data] Downloading package punkt to\n",
      "[nltk_data]     C:\\Users\\mateo\\AppData\\Roaming\\nltk_data...\n",
      "[nltk_data]   Package punkt is already up-to-date!\n",
      "[nltk_data] Downloading package stopwords to\n",
      "[nltk_data]     C:\\Users\\mateo\\AppData\\Roaming\\nltk_data...\n",
      "[nltk_data]   Package stopwords is already up-to-date!\n",
      "[nltk_data] Downloading package wordnet to\n",
      "[nltk_data]     C:\\Users\\mateo\\AppData\\Roaming\\nltk_data...\n",
      "[nltk_data]   Package wordnet is already up-to-date!\n"
     ]
    },
    {
     "data": {
      "text/html": [
       "<div>\n",
       "<style scoped>\n",
       "    .dataframe tbody tr th:only-of-type {\n",
       "        vertical-align: middle;\n",
       "    }\n",
       "\n",
       "    .dataframe tbody tr th {\n",
       "        vertical-align: top;\n",
       "    }\n",
       "\n",
       "    .dataframe thead th {\n",
       "        text-align: right;\n",
       "    }\n",
       "</style>\n",
       "<table border=\"1\" class=\"dataframe\">\n",
       "  <thead>\n",
       "    <tr style=\"text-align: right;\">\n",
       "      <th></th>\n",
       "      <th>Sentence</th>\n",
       "      <th>Sentiment</th>\n",
       "      <th>text_length</th>\n",
       "      <th>cleaned_text</th>\n",
       "    </tr>\n",
       "  </thead>\n",
       "  <tbody>\n",
       "    <tr>\n",
       "      <th>0</th>\n",
       "      <td>The GeoSolutions technology will leverage Bene...</td>\n",
       "      <td>positive</td>\n",
       "      <td>218</td>\n",
       "      <td>The GeoSolutions technology will leverage Bene...</td>\n",
       "    </tr>\n",
       "    <tr>\n",
       "      <th>1</th>\n",
       "      <td>$ESI on lows, down $1.50 to $2.50 BK a real po...</td>\n",
       "      <td>negative</td>\n",
       "      <td>55</td>\n",
       "      <td>$ESI on lows, down $1.50 to $2.50 BK a real po...</td>\n",
       "    </tr>\n",
       "    <tr>\n",
       "      <th>2</th>\n",
       "      <td>For the last quarter of 2010 , Componenta 's n...</td>\n",
       "      <td>positive</td>\n",
       "      <td>193</td>\n",
       "      <td>For the last quarter of 2010 , Componenta 's n...</td>\n",
       "    </tr>\n",
       "    <tr>\n",
       "      <th>3</th>\n",
       "      <td>According to the Finnish-Russian Chamber of Co...</td>\n",
       "      <td>neutral</td>\n",
       "      <td>128</td>\n",
       "      <td>According to the Finnish-Russian Chamber of Co...</td>\n",
       "    </tr>\n",
       "    <tr>\n",
       "      <th>4</th>\n",
       "      <td>The Swedish buyout firm has sold its remaining...</td>\n",
       "      <td>neutral</td>\n",
       "      <td>135</td>\n",
       "      <td>The Swedish buyout firm has sold its remaining...</td>\n",
       "    </tr>\n",
       "    <tr>\n",
       "      <th>...</th>\n",
       "      <td>...</td>\n",
       "      <td>...</td>\n",
       "      <td>...</td>\n",
       "      <td>...</td>\n",
       "    </tr>\n",
       "    <tr>\n",
       "      <th>95</th>\n",
       "      <td>M-Real said there are ` no grounds ' for the r...</td>\n",
       "      <td>neutral</td>\n",
       "      <td>117</td>\n",
       "      <td>M-Real said there are ` no grounds ' for the r...</td>\n",
       "    </tr>\n",
       "    <tr>\n",
       "      <th>96</th>\n",
       "      <td>Lember said the matter was topical also in Est...</td>\n",
       "      <td>neutral</td>\n",
       "      <td>173</td>\n",
       "      <td>Lember said the matter was topical also in Est...</td>\n",
       "    </tr>\n",
       "    <tr>\n",
       "      <th>97</th>\n",
       "      <td>- Moody 's said it gave P A1 long-term senior ...</td>\n",
       "      <td>neutral</td>\n",
       "      <td>193</td>\n",
       "      <td>- Moody 's said it gave P A1 long-term senior ...</td>\n",
       "    </tr>\n",
       "    <tr>\n",
       "      <th>98</th>\n",
       "      <td>$TSLA recall</td>\n",
       "      <td>negative</td>\n",
       "      <td>12</td>\n",
       "      <td>$TSLA recall</td>\n",
       "    </tr>\n",
       "    <tr>\n",
       "      <th>99</th>\n",
       "      <td>The liquidity providing was interrupted on May...</td>\n",
       "      <td>neutral</td>\n",
       "      <td>164</td>\n",
       "      <td>The liquidity providing was interrupted on May...</td>\n",
       "    </tr>\n",
       "  </tbody>\n",
       "</table>\n",
       "<p>100 rows × 4 columns</p>\n",
       "</div>"
      ],
      "text/plain": [
       "                                             Sentence Sentiment  text_length  \\\n",
       "0   The GeoSolutions technology will leverage Bene...  positive          218   \n",
       "1   $ESI on lows, down $1.50 to $2.50 BK a real po...  negative           55   \n",
       "2   For the last quarter of 2010 , Componenta 's n...  positive          193   \n",
       "3   According to the Finnish-Russian Chamber of Co...   neutral          128   \n",
       "4   The Swedish buyout firm has sold its remaining...   neutral          135   \n",
       "..                                                ...       ...          ...   \n",
       "95  M-Real said there are ` no grounds ' for the r...   neutral          117   \n",
       "96  Lember said the matter was topical also in Est...   neutral          173   \n",
       "97  - Moody 's said it gave P A1 long-term senior ...   neutral          193   \n",
       "98                                       $TSLA recall  negative           12   \n",
       "99  The liquidity providing was interrupted on May...   neutral          164   \n",
       "\n",
       "                                         cleaned_text  \n",
       "0   The GeoSolutions technology will leverage Bene...  \n",
       "1   $ESI on lows, down $1.50 to $2.50 BK a real po...  \n",
       "2   For the last quarter of 2010 , Componenta 's n...  \n",
       "3   According to the Finnish-Russian Chamber of Co...  \n",
       "4   The Swedish buyout firm has sold its remaining...  \n",
       "..                                                ...  \n",
       "95  M-Real said there are ` no grounds ' for the r...  \n",
       "96  Lember said the matter was topical also in Est...  \n",
       "97  - Moody 's said it gave P A1 long-term senior ...  \n",
       "98                                       $TSLA recall  \n",
       "99  The liquidity providing was interrupted on May...  \n",
       "\n",
       "[100 rows x 4 columns]"
      ]
     },
     "execution_count": 4,
     "metadata": {},
     "output_type": "execute_result"
    }
   ],
   "source": [
    "import nltk\n",
    "import re\n",
    "import html\n",
    "\n",
    "\n",
    "# Download necessary NLTK resources if not already done\n",
    "nltk.download('punkt')\n",
    "nltk.download('stopwords')\n",
    "nltk.download('wordnet')\n",
    "\n",
    "def clean_df(text):\n",
    "    # Remove extra whitespaces\n",
    "    text = re.sub(r'\\s+', ' ', text)\n",
    "\n",
    "    # Remove HTML tags\n",
    "    text = re.sub(r'<.*?>', '', text)\n",
    "\n",
    "    # Decode HTML entities\n",
    "    text = html.unescape(text)\n",
    "\n",
    "    # Replace URLs with a placeholder\n",
    "    text = re.sub(r'http\\S+|www\\S+|https\\S+', 'url', text)\n",
    "\n",
    "    # Strip leading/trailing whitespace\n",
    "    return text.strip()\n",
    "    \n",
    "\n",
    "# Apply the cleaning function to the 'Sentence' column and create a new column 'cleaned_text'\n",
    "df['cleaned_text'] = df['Sentence'].apply(clean_df)\n",
    "df.head(100)\n"
   ]
  },
  {
   "cell_type": "markdown",
   "id": "00d5abe3",
   "metadata": {},
   "source": [
    "# Handle imbalance"
   ]
  },
  {
   "cell_type": "code",
   "execution_count": 5,
   "id": "b58791c6",
   "metadata": {},
   "outputs": [
    {
     "name": "stdout",
     "output_type": "stream",
     "text": [
      "Class weights: tensor([1.0506, 2.2616, 0.6226])\n"
     ]
    }
   ],
   "source": [
    "from sklearn.utils.class_weight import compute_class_weight\n",
    "from sklearn.model_selection import train_test_split\n",
    "import torch\n",
    "import numpy as np\n",
    "\n",
    "# Χαρτογράφηση των labels σε ακέραιους\n",
    "label_mapping = {'positive': 0, 'negative': 1, 'neutral': 2}\n",
    "df['label'] = df['Sentiment'].map(label_mapping)\n",
    "\n",
    "# Προετοιμασία δεδομένων\n",
    "texts = df['cleaned_text'].tolist()\n",
    "labels = df['label'].tolist()\n",
    "\n",
    "# Train/Validation split\n",
    "train_texts, val_texts, train_labels, val_labels = train_test_split(\n",
    "    texts, labels, test_size=0.2, stratify=labels, random_state=42\n",
    ")\n",
    "\n",
    "# Υπολογισμός class weights βάσει του training set\n",
    "train_labels_np = np.array(train_labels)\n",
    "class_weights = compute_class_weight(\n",
    "    class_weight='balanced',\n",
    "    classes=np.unique(train_labels_np),\n",
    "    y=train_labels_np\n",
    ")\n",
    "\n",
    "\n",
    "class_weights_tensor = torch.tensor(class_weights, dtype=torch.float32)\n",
    "\n",
    "# Εκτύπωση για έλεγχο\n",
    "print(\"Class weights:\", class_weights_tensor)\n"
   ]
  },
  {
   "cell_type": "markdown",
   "id": "78fdab44",
   "metadata": {},
   "source": [
    "# focal loss function from \n",
    "code was found on github page https://github.com/itakurah/Focal-loss-PyTorch"
   ]
  },
  {
   "cell_type": "code",
   "execution_count": 6,
   "id": "c701aa7d",
   "metadata": {},
   "outputs": [],
   "source": [
    "import torch\n",
    "import torch.nn as nn\n",
    "import torch.nn.functional as F\n",
    "\n",
    "\n",
    "class FocalLoss(nn.Module):\n",
    "    def __init__(self, gamma=2, alpha=None, reduction='mean', task_type='binary', num_classes=None):\n",
    "        \"\"\"\n",
    "        Unified Focal Loss class for binary, multi-class, and multi-label classification tasks.\n",
    "        :param gamma: Focusing parameter, controls the strength of the modulating factor (1 - p_t)^gamma\n",
    "        :param alpha: Balancing factor, can be a scalar or a tensor for class-wise weights. If None, no class balancing is used.\n",
    "        :param reduction: Specifies the reduction method: 'none' | 'mean' | 'sum'\n",
    "        :param task_type: Specifies the type of task: 'binary', 'multi-class', or 'multi-label'\n",
    "        :param num_classes: Number of classes (only required for multi-class classification)\n",
    "        \"\"\"\n",
    "        super(FocalLoss, self).__init__()\n",
    "        self.gamma = gamma\n",
    "        self.alpha = alpha\n",
    "        self.reduction = reduction\n",
    "        self.task_type = task_type\n",
    "        self.num_classes = num_classes\n",
    "\n",
    "        # Handle alpha for class balancing in multi-class tasks\n",
    "        if task_type == 'multi-class' and alpha is not None and isinstance(alpha, (list, torch.Tensor)):\n",
    "            assert num_classes is not None, \"num_classes must be specified for multi-class classification\"\n",
    "            if isinstance(alpha, list):\n",
    "                self.alpha = torch.Tensor(alpha)\n",
    "            else:\n",
    "                self.alpha = alpha\n",
    "\n",
    "    def forward(self, inputs, targets):\n",
    "        \"\"\"\n",
    "        Forward pass to compute the Focal Loss based on the specified task type.\n",
    "        :param inputs: Predictions (logits) from the model.\n",
    "                       Shape:\n",
    "                         - binary/multi-label: (batch_size, num_classes)\n",
    "                         - multi-class: (batch_size, num_classes)\n",
    "        :param targets: Ground truth labels.\n",
    "                        Shape:\n",
    "                         - binary: (batch_size,)\n",
    "                         - multi-label: (batch_size, num_classes)\n",
    "                         - multi-class: (batch_size,)\n",
    "        \"\"\"\n",
    "        if self.task_type == 'binary':\n",
    "            return self.binary_focal_loss(inputs, targets)\n",
    "        elif self.task_type == 'multi-class':\n",
    "            return self.multi_class_focal_loss(inputs, targets)\n",
    "        elif self.task_type == 'multi-label':\n",
    "            return self.multi_label_focal_loss(inputs, targets)\n",
    "        else:\n",
    "            raise ValueError(\n",
    "                f\"Unsupported task_type '{self.task_type}'. Use 'binary', 'multi-class', or 'multi-label'.\")\n",
    "\n",
    "    def binary_focal_loss(self, inputs, targets):\n",
    "        \"\"\" Focal loss for binary classification. \"\"\"\n",
    "        probs = torch.sigmoid(inputs)\n",
    "        targets = targets.float()\n",
    "\n",
    "        # Compute binary cross entropy\n",
    "        bce_loss = F.binary_cross_entropy_with_logits(inputs, targets, reduction='none')\n",
    "\n",
    "        # Compute focal weight\n",
    "        p_t = probs * targets + (1 - probs) * (1 - targets)\n",
    "        focal_weight = (1 - p_t) ** self.gamma\n",
    "\n",
    "        # Apply alpha if provided\n",
    "        if self.alpha is not None:\n",
    "            alpha_t = self.alpha * targets + (1 - self.alpha) * (1 - targets)\n",
    "            bce_loss = alpha_t * bce_loss\n",
    "\n",
    "        # Apply focal loss weighting\n",
    "        loss = focal_weight * bce_loss\n",
    "\n",
    "        if self.reduction == 'mean':\n",
    "            return loss.mean()\n",
    "        elif self.reduction == 'sum':\n",
    "            return loss.sum()\n",
    "        return loss\n",
    "\n",
    "    def multi_class_focal_loss(self, inputs, targets):\n",
    "        \"\"\" Focal loss for multi-class classification. \"\"\"\n",
    "        if self.alpha is not None:\n",
    "            alpha = self.alpha.to(inputs.device)\n",
    "\n",
    "        # Convert logits to probabilities with softmax\n",
    "        probs = F.softmax(inputs, dim=1)\n",
    "\n",
    "        # One-hot encode the targets\n",
    "        targets_one_hot = F.one_hot(targets, num_classes=self.num_classes).float()\n",
    "\n",
    "        # Compute cross-entropy for each class\n",
    "        ce_loss = -targets_one_hot * torch.log(probs)\n",
    "\n",
    "        # Compute focal weight\n",
    "        p_t = torch.sum(probs * targets_one_hot, dim=1)  # p_t for each sample\n",
    "        focal_weight = (1 - p_t) ** self.gamma\n",
    "\n",
    "        # Apply alpha if provided (per-class weighting)\n",
    "        if self.alpha is not None:\n",
    "            alpha_t = alpha.gather(0, targets)\n",
    "            ce_loss = alpha_t.unsqueeze(1) * ce_loss\n",
    "\n",
    "        # Apply focal loss weight\n",
    "        loss = focal_weight.unsqueeze(1) * ce_loss\n",
    "\n",
    "        if self.reduction == 'mean':\n",
    "            return loss.mean()\n",
    "        elif self.reduction == 'sum':\n",
    "            return loss.sum()\n",
    "        return loss\n",
    "\n",
    "    def multi_label_focal_loss(self, inputs, targets):\n",
    "        \"\"\" Focal loss for multi-label classification. \"\"\"\n",
    "        probs = torch.sigmoid(inputs)\n",
    "\n",
    "        # Compute binary cross entropy\n",
    "        bce_loss = F.binary_cross_entropy_with_logits(inputs, targets, reduction='none')\n",
    "\n",
    "        # Compute focal weight\n",
    "        p_t = probs * targets + (1 - probs) * (1 - targets)\n",
    "        focal_weight = (1 - p_t) ** self.gamma\n",
    "\n",
    "        # Apply alpha if provided\n",
    "        if self.alpha is not None:\n",
    "            alpha_t = self.alpha * targets + (1 - self.alpha) * (1 - targets)\n",
    "            bce_loss = alpha_t * bce_loss\n",
    "\n",
    "        # Apply focal loss weight\n",
    "        loss = focal_weight * bce_loss\n",
    "\n",
    "        if self.reduction == 'mean':\n",
    "            return loss.mean()\n",
    "        elif self.reduction == 'sum':\n",
    "            return loss.sum()\n",
    "        return loss\n"
   ]
  },
  {
   "cell_type": "markdown",
   "id": "daf45d0b",
   "metadata": {},
   "source": [
    "# Create model \n",
    "the model we will use is finbert "
   ]
  },
  {
   "cell_type": "code",
   "execution_count": 7,
   "id": "665d27c3",
   "metadata": {},
   "outputs": [
    {
     "name": "stderr",
     "output_type": "stream",
     "text": [
      "c:\\Users\\mateo\\anaconda3\\envs\\deepL\\Lib\\site-packages\\tqdm\\auto.py:21: TqdmWarning: IProgress not found. Please update jupyter and ipywidgets. See https://ipywidgets.readthedocs.io/en/stable/user_install.html\n",
      "  from .autonotebook import tqdm as notebook_tqdm\n",
      "c:\\Users\\mateo\\anaconda3\\envs\\deepL\\Lib\\site-packages\\transformers\\utils\\generic.py:441: FutureWarning: `torch.utils._pytree._register_pytree_node` is deprecated. Please use `torch.utils._pytree.register_pytree_node` instead.\n",
      "  _torch_pytree._register_pytree_node(\n",
      "W0612 15:30:41.263000 22856 site-packages\\torch\\distributed\\elastic\\multiprocessing\\redirects.py:29] NOTE: Redirects are currently not supported in Windows or MacOs.\n",
      "c:\\Users\\mateo\\anaconda3\\envs\\deepL\\Lib\\site-packages\\transformers\\utils\\generic.py:309: FutureWarning: `torch.utils._pytree._register_pytree_node` is deprecated. Please use `torch.utils._pytree.register_pytree_node` instead.\n",
      "  _torch_pytree._register_pytree_node(\n",
      "c:\\Users\\mateo\\anaconda3\\envs\\deepL\\Lib\\site-packages\\huggingface_hub\\file_download.py:943: FutureWarning: `resume_download` is deprecated and will be removed in version 1.0.0. Downloads always resume when possible. If you want to force a new download, use `force_download=True`.\n",
      "  warnings.warn(\n",
      "c:\\Users\\mateo\\anaconda3\\envs\\deepL\\Lib\\site-packages\\accelerate\\accelerator.py:432: FutureWarning: Passing the following arguments to `Accelerator` is deprecated and will be removed in version 1.0 of Accelerate: dict_keys(['dispatch_batches', 'split_batches']). Please pass an `accelerate.DataLoaderConfiguration` instead: \n",
      "dataloader_config = DataLoaderConfiguration(dispatch_batches=None, split_batches=False)\n",
      "  warnings.warn(\n",
      " 10%|█         | 73/730 [00:31<04:47,  2.29it/s]"
     ]
    },
    {
     "name": "stdout",
     "output_type": "stream",
     "text": [
      "{'loss': 0.2769, 'learning_rate': 1e-05, 'epoch': 1.0}\n"
     ]
    },
    {
     "name": "stderr",
     "output_type": "stream",
     "text": [
      "                                                \n",
      " 10%|█         | 73/730 [00:34<04:47,  2.29it/s]"
     ]
    },
    {
     "name": "stdout",
     "output_type": "stream",
     "text": [
      "{'eval_loss': 0.16184423863887787, 'eval_accuracy': 0.809931506849315, 'eval_runtime': 2.7632, 'eval_samples_per_second': 422.703, 'eval_steps_per_second': 6.876, 'epoch': 1.0}\n"
     ]
    },
    {
     "name": "stderr",
     "output_type": "stream",
     "text": [
      " 20%|██        | 146/730 [01:07<04:10,  2.33it/s]"
     ]
    },
    {
     "name": "stdout",
     "output_type": "stream",
     "text": [
      "{'loss': 0.1961, 'learning_rate': 1e-05, 'epoch': 2.0}\n"
     ]
    },
    {
     "name": "stderr",
     "output_type": "stream",
     "text": [
      "                                                 \n",
      " 20%|██        | 146/730 [01:10<04:10,  2.33it/s]"
     ]
    },
    {
     "name": "stdout",
     "output_type": "stream",
     "text": [
      "{'eval_loss': 0.14950716495513916, 'eval_accuracy': 0.815068493150685, 'eval_runtime': 2.7574, 'eval_samples_per_second': 423.594, 'eval_steps_per_second': 6.891, 'epoch': 2.0}\n"
     ]
    },
    {
     "name": "stderr",
     "output_type": "stream",
     "text": [
      " 30%|███       | 219/730 [01:43<03:39,  2.33it/s]"
     ]
    },
    {
     "name": "stdout",
     "output_type": "stream",
     "text": [
      "{'loss': 0.179, 'learning_rate': 1e-05, 'epoch': 3.0}\n"
     ]
    },
    {
     "name": "stderr",
     "output_type": "stream",
     "text": [
      "                                                 \n",
      " 30%|███       | 219/730 [01:45<03:39,  2.33it/s]"
     ]
    },
    {
     "name": "stdout",
     "output_type": "stream",
     "text": [
      "{'eval_loss': 0.13509927690029144, 'eval_accuracy': 0.815068493150685, 'eval_runtime': 2.7568, 'eval_samples_per_second': 423.687, 'eval_steps_per_second': 6.892, 'epoch': 3.0}\n"
     ]
    },
    {
     "name": "stderr",
     "output_type": "stream",
     "text": [
      " 40%|████      | 292/730 [02:18<03:08,  2.32it/s]"
     ]
    },
    {
     "name": "stdout",
     "output_type": "stream",
     "text": [
      "{'loss': 0.1589, 'learning_rate': 1e-05, 'epoch': 4.0}\n"
     ]
    },
    {
     "name": "stderr",
     "output_type": "stream",
     "text": [
      "                                                 \n",
      " 40%|████      | 292/730 [02:21<03:08,  2.32it/s]"
     ]
    },
    {
     "name": "stdout",
     "output_type": "stream",
     "text": [
      "{'eval_loss': 0.14337772130966187, 'eval_accuracy': 0.8202054794520548, 'eval_runtime': 2.7601, 'eval_samples_per_second': 423.18, 'eval_steps_per_second': 6.884, 'epoch': 4.0}\n"
     ]
    },
    {
     "name": "stderr",
     "output_type": "stream",
     "text": [
      " 50%|█████     | 365/730 [02:54<02:36,  2.33it/s]"
     ]
    },
    {
     "name": "stdout",
     "output_type": "stream",
     "text": [
      "{'loss': 0.1442, 'learning_rate': 1e-05, 'epoch': 5.0}\n"
     ]
    },
    {
     "name": "stderr",
     "output_type": "stream",
     "text": [
      "                                                 \n",
      " 50%|█████     | 365/730 [02:57<02:36,  2.33it/s]"
     ]
    },
    {
     "name": "stdout",
     "output_type": "stream",
     "text": [
      "{'eval_loss': 0.13506539165973663, 'eval_accuracy': 0.8227739726027398, 'eval_runtime': 2.7578, 'eval_samples_per_second': 423.527, 'eval_steps_per_second': 6.89, 'epoch': 5.0}\n"
     ]
    },
    {
     "name": "stderr",
     "output_type": "stream",
     "text": [
      " 60%|██████    | 438/730 [03:29<02:05,  2.33it/s]"
     ]
    },
    {
     "name": "stdout",
     "output_type": "stream",
     "text": [
      "{'loss': 0.1406, 'learning_rate': 1e-05, 'epoch': 6.0}\n"
     ]
    },
    {
     "name": "stderr",
     "output_type": "stream",
     "text": [
      "                                                 \n",
      " 60%|██████    | 438/730 [03:32<02:05,  2.33it/s]"
     ]
    },
    {
     "name": "stdout",
     "output_type": "stream",
     "text": [
      "{'eval_loss': 0.14048221707344055, 'eval_accuracy': 0.8056506849315068, 'eval_runtime': 2.7551, 'eval_samples_per_second': 423.947, 'eval_steps_per_second': 6.896, 'epoch': 6.0}\n"
     ]
    },
    {
     "name": "stderr",
     "output_type": "stream",
     "text": [
      " 70%|███████   | 511/730 [04:05<01:33,  2.33it/s]"
     ]
    },
    {
     "name": "stdout",
     "output_type": "stream",
     "text": [
      "{'loss': 0.1317, 'learning_rate': 1e-05, 'epoch': 7.0}\n"
     ]
    },
    {
     "name": "stderr",
     "output_type": "stream",
     "text": [
      "                                                 \n",
      " 70%|███████   | 511/730 [04:08<01:33,  2.33it/s]"
     ]
    },
    {
     "name": "stdout",
     "output_type": "stream",
     "text": [
      "{'eval_loss': 0.1445528119802475, 'eval_accuracy': 0.8013698630136986, 'eval_runtime': 2.7618, 'eval_samples_per_second': 422.915, 'eval_steps_per_second': 6.88, 'epoch': 7.0}\n"
     ]
    },
    {
     "name": "stderr",
     "output_type": "stream",
     "text": [
      " 80%|████████  | 584/730 [04:41<01:02,  2.33it/s]"
     ]
    },
    {
     "name": "stdout",
     "output_type": "stream",
     "text": [
      "{'loss': 0.1215, 'learning_rate': 1e-05, 'epoch': 8.0}\n"
     ]
    },
    {
     "name": "stderr",
     "output_type": "stream",
     "text": [
      "                                                 \n",
      " 80%|████████  | 584/730 [04:43<01:02,  2.33it/s]"
     ]
    },
    {
     "name": "stdout",
     "output_type": "stream",
     "text": [
      "{'eval_loss': 0.14118200540542603, 'eval_accuracy': 0.8159246575342466, 'eval_runtime': 2.7576, 'eval_samples_per_second': 423.559, 'eval_steps_per_second': 6.89, 'epoch': 8.0}\n"
     ]
    },
    {
     "name": "stderr",
     "output_type": "stream",
     "text": [
      " 80%|████████  | 584/730 [04:45<01:11,  2.05it/s]\n"
     ]
    },
    {
     "name": "stdout",
     "output_type": "stream",
     "text": [
      "{'train_runtime': 285.0976, 'train_samples_per_second': 163.733, 'train_steps_per_second': 2.561, 'train_loss': 0.16862748257101398, 'epoch': 8.0}\n"
     ]
    },
    {
     "name": "stderr",
     "output_type": "stream",
     "text": [
      "100%|██████████| 73/73 [00:10<00:00,  6.75it/s]\n",
      "100%|██████████| 19/19 [00:02<00:00,  7.33it/s]"
     ]
    },
    {
     "name": "stdout",
     "output_type": "stream",
     "text": [
      "Train Loss: 0.1100, Train Accuracy: 0.8353\n",
      "Val Loss: 0.1351, Val Accuracy: 0.8228\n"
     ]
    },
    {
     "name": "stderr",
     "output_type": "stream",
     "text": [
      "\n"
     ]
    }
   ],
   "source": [
    "from transformers import AutoTokenizer, AutoModelForSequenceClassification, Trainer, TrainingArguments\n",
    "from transformers import AutoConfig\n",
    "from transformers import TrainerCallback, EarlyStoppingCallback\n",
    "import torch\n",
    "import numpy as np\n",
    "from sklearn.metrics import accuracy_score\n",
    "\n",
    "# Tokenizer και model\n",
    "tokenizer = AutoTokenizer.from_pretrained(\"ProsusAI/finbert\")\n",
    "\n",
    "config = AutoConfig.from_pretrained(\n",
    "    \"ProsusAI/finbert\",\n",
    "    num_labels=3,\n",
    "    hidden_dropout_prob=0.3,               \n",
    "    attention_probs_dropout_prob=0.3       \n",
    ")\n",
    "\n",
    "model = AutoModelForSequenceClassification.from_pretrained(\"ProsusAI/finbert\",config=config)\n",
    "\n",
    "# Dataset class\n",
    "class FinDataset(torch.utils.data.Dataset):\n",
    "    def __init__(self, encodings, labels):\n",
    "        self.encodings = encodings\n",
    "        self.labels = labels\n",
    "\n",
    "    def __getitem__(self, idx):\n",
    "        item = {key: torch.tensor(val[idx]) for key, val in self.encodings.items()}\n",
    "        item['labels'] = torch.tensor(self.labels[idx])\n",
    "        return item\n",
    "\n",
    "    def __len__(self):\n",
    "        return len(self.labels)\n",
    "\n",
    "\n",
    "\n",
    "\n",
    "\n",
    "\n",
    "# Tokenization\n",
    "train_enc = tokenizer(train_texts, truncation=True, padding='max_length', max_length=160)\n",
    "val_enc = tokenizer(val_texts, truncation=True, padding='max_length', max_length=160)\n",
    "\n",
    "# Datasets\n",
    "train_dataset = FinDataset(train_enc, train_labels)\n",
    "val_dataset = FinDataset(val_enc, val_labels)\n",
    "\n",
    "# Metrics function για accuracy\n",
    "def compute_metrics(eval_pred):\n",
    "    logits, labels = eval_pred\n",
    "    preds = np.argmax(logits, axis=1)\n",
    "    acc = accuracy_score(labels, preds)\n",
    "    return {'accuracy': acc}\n",
    "\n",
    "# Custom Trainer class for Focal Loss\n",
    "class MyTrainer(Trainer):\n",
    "    def __init__(self, *args, class_weights=None, **kwargs):\n",
    "        super().__init__(*args, **kwargs)\n",
    "        self.class_weights = class_weights.to(self.model.device) if class_weights is not None else None\n",
    "\n",
    "    def compute_loss(self, model, inputs, return_outputs=False):\n",
    "        labels = inputs.get(\"labels\")\n",
    "        outputs = model(**inputs)\n",
    "        logits = outputs.get(\"logits\")\n",
    "        if self.class_weights is not None:\n",
    "            loss_fct = FocalLoss(\n",
    "                gamma=2,\n",
    "                alpha=self.class_weights * 3,\n",
    "                reduction='mean',\n",
    "                task_type='multi-class',\n",
    "                num_classes=3\n",
    "            )\n",
    "            loss = loss_fct(logits, labels)\n",
    "        else:\n",
    "            loss = outputs.loss\n",
    "        return (loss, outputs) if return_outputs else loss\n",
    "    \n",
    "class SaveMetricsCallback(TrainerCallback):\n",
    "    def __init__(self):\n",
    "        self.train_loss = []\n",
    "        self.val_loss = []\n",
    "        self.train_acc = []\n",
    "        self.val_acc = []\n",
    "\n",
    "    def on_evaluate(self, args, state, control, metrics, **kwargs):\n",
    "        # Called at the end of evaluation\n",
    "        if 'eval_loss' in metrics:\n",
    "            self.val_loss.append(metrics['eval_loss'])\n",
    "        if 'eval_accuracy' in metrics:\n",
    "            self.val_acc.append(metrics['eval_accuracy'])\n",
    "\n",
    "    def on_log(self, args, state, control, logs=None, **kwargs):\n",
    "        # Called during training logging\n",
    "        if logs is not None:\n",
    "            if 'loss' in logs:\n",
    "                self.train_loss.append(logs['loss'])\n",
    "            if 'accuracy' in logs:\n",
    "                self.train_acc.append(logs['accuracy'])\n",
    "\n",
    "    \n",
    "save_metrics_callback = SaveMetricsCallback()   \n",
    "# Training arguments\n",
    "training_args = TrainingArguments(\n",
    "    output_dir=\"./results\",\n",
    "    per_device_train_batch_size=64,\n",
    "    per_device_eval_batch_size=64,\n",
    "    num_train_epochs=10,\n",
    "    evaluation_strategy=\"epoch\",\n",
    "    save_strategy=\"epoch\",\n",
    "    logging_strategy=\"epoch\",\n",
    "    load_best_model_at_end=True,\n",
    "    metric_for_best_model=\"accuracy\",\n",
    "    greater_is_better=True,\n",
    "    report_to=\"none\",\n",
    "    learning_rate=1e-5,\n",
    "    weight_decay=0.02,\n",
    "    lr_scheduler_type=\"reduce_lr_on_plateau\",      \n",
    "    warmup_ratio=0.1,                   \n",
    ")\n",
    "\n",
    "# Trainer\n",
    "trainer = MyTrainer(\n",
    "    model=model,\n",
    "    args=training_args,\n",
    "    train_dataset=train_dataset,\n",
    "    eval_dataset=val_dataset,\n",
    "    compute_metrics=compute_metrics,\n",
    "    class_weights=class_weights_tensor,\n",
    "    callbacks=[\n",
    "        save_metrics_callback,\n",
    "        EarlyStoppingCallback(early_stopping_patience=3)\n",
    "    ]\n",
    ")\n",
    "\n",
    "# Train the model\n",
    "trainer.train()\n",
    "\n",
    "# measure train and validation metrics\n",
    "train_metrics = trainer.evaluate(train_dataset)\n",
    "val_metrics = trainer.evaluate(val_dataset)\n",
    "\n",
    "print(f\"Train Loss: {train_metrics['eval_loss']:.4f}, Train Accuracy: {train_metrics['eval_accuracy']:.4f}\")\n",
    "print(f\"Val Loss: {val_metrics['eval_loss']:.4f}, Val Accuracy: {val_metrics['eval_accuracy']:.4f}\")\n"
   ]
  },
  {
   "cell_type": "code",
   "execution_count": 8,
   "id": "540d0de9",
   "metadata": {},
   "outputs": [
    {
     "name": "stderr",
     "output_type": "stream",
     "text": [
      "100%|██████████| 19/19 [00:02<00:00,  7.33it/s]"
     ]
    },
    {
     "name": "stdout",
     "output_type": "stream",
     "text": [
      "Validation Classification Report:\n",
      "              precision    recall  f1-score   support\n",
      "\n",
      "    positive       0.88      0.90      0.89       371\n",
      "    negative       0.53      0.92      0.67       172\n",
      "     neutral       0.96      0.75      0.84       625\n",
      "\n",
      "    accuracy                           0.82      1168\n",
      "   macro avg       0.79      0.86      0.80      1168\n",
      "weighted avg       0.87      0.82      0.83      1168\n",
      "\n"
     ]
    },
    {
     "name": "stderr",
     "output_type": "stream",
     "text": [
      "\n"
     ]
    },
    {
     "data": {
      "image/png": "[encoded data removed]",
      "text/plain": [
       "<Figure size 800x600 with 2 Axes>"
      ]
     },
     "metadata": {},
     "output_type": "display_data"
    }
   ],
   "source": [
    "# print classification report\n",
    "from sklearn.metrics import classification_report\n",
    "from sklearn.metrics import confusion_matrix\n",
    "import seaborn as sns\n",
    "\n",
    "val_preds = trainer.predict(val_dataset)\n",
    "val_preds = np.argmax(val_preds.predictions, axis=1)\n",
    "print(\"Validation Classification Report:\")\n",
    "print(classification_report(val_labels, val_preds, target_names=['positive', 'negative', 'neutral']))\n",
    "\n",
    "# confusion matrix\n",
    "conf_matrix = confusion_matrix(val_labels, val_preds)\n",
    "plt.figure(figsize=(8, 6))\n",
    "sns.heatmap(conf_matrix, annot=True, fmt='d', cmap='Blues', xticklabels=['positive', 'negative', 'neutral'], yticklabels=['positive', 'negative', 'neutral'])\n",
    "plt.title('Confusion Matrix')\n",
    "plt.xlabel('Predicted')\n",
    "plt.ylabel('True Label')\n",
    "plt.tight_layout()\n",
    "plt.show()"
   ]
  },
  {
   "cell_type": "code",
   "execution_count": 9,
   "id": "18bce6c2",
   "metadata": {},
   "outputs": [
    {
     "name": "stdout",
     "output_type": "stream",
     "text": [
      "Weighted Accuracy: 0.8228\n",
      "Weighted F1 Score: 0.8317\n",
      "Weighted Precision: 0.8691\n",
      "Weighted Recall: 0.8228\n"
     ]
    }
   ],
   "source": [
    "# macro avg\n",
    "from sklearn.metrics import f1_score\n",
    "from sklearn.metrics import precision_score, recall_score ,accuracy_score\n",
    "macro_f1 = f1_score(val_labels, val_preds, average='weighted')\n",
    "macro_precision = precision_score(val_labels, val_preds, average='weighted')\n",
    "macro_recall = recall_score(val_labels, val_preds, average='weighted')\n",
    "macro_accuracy = accuracy_score(val_labels, val_preds)\n",
    "print(f\"Weighted Accuracy: {macro_accuracy:.4f}\")\n",
    "print(f\"Weighted F1 Score: {macro_f1:.4f}\")\n",
    "print(f\"Weighted Precision: {macro_precision:.4f}\")\n",
    "print(f\"Weighted Recall: {macro_recall:.4f}\")"
   ]
  },
  {
   "cell_type": "code",
   "execution_count": 13,
   "id": "7d611d9b",
   "metadata": {},
   "outputs": [
    {
     "data": {
      "image/png": "[encoded data removed]",
      "text/plain": [
       "<Figure size 1000x500 with 1 Axes>"
      ]
     },
     "metadata": {},
     "output_type": "display_data"
    }
   ],
   "source": [
    "# plot training loss\n",
    "import matplotlib.pyplot as plt\n",
    "def plot_training_loss(callback):\n",
    "    plt.figure(figsize=(10, 5))\n",
    "    plt.plot(callback.train_loss, label='Train Loss', color='blue')\n",
    "    plt.plot(callback.val_loss, label='Validation Loss', color='orange')\n",
    "    plt.title('Training Loss')\n",
    "    plt.title('Training and Validation Loss')\n",
    "    plt.xlabel('Epochs')\n",
    "    plt.ylabel('Loss')\n",
    "    plt.legend()\n",
    "    plt.grid()\n",
    "    plt.show()\n",
    "    \n",
    "plot_training_loss(save_metrics_callback)\n",
    "\n",
    "\n",
    "\n"
   ]
  },
  {
   "cell_type": "code",
   "execution_count": 11,
   "id": "7336e37b",
   "metadata": {},
   "outputs": [
    {
     "name": "stdout",
     "output_type": "stream",
     "text": [
      "BertForSequenceClassification(\n",
      "  (bert): BertModel(\n",
      "    (embeddings): BertEmbeddings(\n",
      "      (word_embeddings): Embedding(30522, 768, padding_idx=0)\n",
      "      (position_embeddings): Embedding(512, 768)\n",
      "      (token_type_embeddings): Embedding(2, 768)\n",
      "      (LayerNorm): LayerNorm((768,), eps=1e-12, elementwise_affine=True)\n",
      "      (dropout): Dropout(p=0.3, inplace=False)\n",
      "    )\n",
      "    (encoder): BertEncoder(\n",
      "      (layer): ModuleList(\n",
      "        (0-11): 12 x BertLayer(\n",
      "          (attention): BertAttention(\n",
      "            (self): BertSelfAttention(\n",
      "              (query): Linear(in_features=768, out_features=768, bias=True)\n",
      "              (key): Linear(in_features=768, out_features=768, bias=True)\n",
      "              (value): Linear(in_features=768, out_features=768, bias=True)\n",
      "              (dropout): Dropout(p=0.3, inplace=False)\n",
      "            )\n",
      "            (output): BertSelfOutput(\n",
      "              (dense): Linear(in_features=768, out_features=768, bias=True)\n",
      "              (LayerNorm): LayerNorm((768,), eps=1e-12, elementwise_affine=True)\n",
      "              (dropout): Dropout(p=0.3, inplace=False)\n",
      "            )\n",
      "          )\n",
      "          (intermediate): BertIntermediate(\n",
      "            (dense): Linear(in_features=768, out_features=3072, bias=True)\n",
      "            (intermediate_act_fn): GELUActivation()\n",
      "          )\n",
      "          (output): BertOutput(\n",
      "            (dense): Linear(in_features=3072, out_features=768, bias=True)\n",
      "            (LayerNorm): LayerNorm((768,), eps=1e-12, elementwise_affine=True)\n",
      "            (dropout): Dropout(p=0.3, inplace=False)\n",
      "          )\n",
      "        )\n",
      "      )\n",
      "    )\n",
      "    (pooler): BertPooler(\n",
      "      (dense): Linear(in_features=768, out_features=768, bias=True)\n",
      "      (activation): Tanh()\n",
      "    )\n",
      "  )\n",
      "  (dropout): Dropout(p=0.3, inplace=False)\n",
      "  (classifier): Linear(in_features=768, out_features=3, bias=True)\n",
      ")\n"
     ]
    }
   ],
   "source": [
    "# print model architecture\n",
    "print(model)\n"
   ]
  }
 ],
 "metadata": {
  "kernelspec": {
   "display_name": "deepL",
   "language": "python",
   "name": "python3"
  },
  "language_info": {
   "codemirror_mode": {
    "name": "ipython",
    "version": 3
   },
   "file_extension": ".py",
   "mimetype": "text/x-python",
   "name": "python",
   "nbconvert_exporter": "python",
   "pygments_lexer": "ipython3",
   "version": "3.12.11"
  }
 },
 "nbformat": 4,
 "nbformat_minor": 5
}
